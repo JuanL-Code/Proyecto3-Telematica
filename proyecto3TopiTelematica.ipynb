{
  "nbformat": 4,
  "nbformat_minor": 0,
  "metadata": {
    "colab": {
      "name": "proyecto3TopiTelematica.ipynb",
      "provenance": []
    },
    "kernelspec": {
      "name": "python3",
      "display_name": "Python 3"
    },
    "language_info": {
      "name": "python"
    }
  },
  "cells": [
    {
      "cell_type": "code",
      "execution_count": 1,
      "metadata": {
        "colab": {
          "base_uri": "https://localhost:8080/"
        },
        "id": "55vLHrXC4HI0",
        "outputId": "0b55196c-4215-427d-8b68-a9ab8b95860d"
      },
      "outputs": [
        {
          "output_type": "stream",
          "name": "stdout",
          "text": [
            "Mounted at /content/gdrive\n"
          ]
        }
      ],
      "source": [
        "#configuración en google colab de spark y pyspark\n",
        "from google.colab import drive\n",
        "drive.mount('/content/gdrive')"
      ]
    },
    {
      "cell_type": "code",
      "source": [
        "#instalar java y spark\n",
        "!apt-get install openjdk-8-jdk-headless -qq > /dev/null\n",
        "!wget -q https://downloads.apache.org/spark/spark-3.2.1/spark-3.2.1-bin-hadoop3.2.tgz\n",
        "!tar xf spark-3.2.1-bin-hadoop3.2.tgz\n",
        "!pip install -q findspark"
      ],
      "metadata": {
        "id": "6k0tRye7425r"
      },
      "execution_count": 2,
      "outputs": []
    },
    {
      "cell_type": "code",
      "source": [
        "import os\n",
        "os.environ[\"JAVA_HOME\"] = \"/usr/lib/jvm/java-8-openjdk-amd64\"\n",
        "os.environ[\"SPARK_HOME\"] = \"/content/spark-3.2.1-bin-hadoop3.2\""
      ],
      "metadata": {
        "id": "-7lEL8EL5DFr"
      },
      "execution_count": 3,
      "outputs": []
    },
    {
      "cell_type": "code",
      "source": [
        "import findspark\n",
        "findspark.init()\n",
        "from pyspark.sql import SparkSession\n",
        "spark = SparkSession.builder.master(\"local[*]\").getOrCreate()\n",
        "sc = spark.sparkContext"
      ],
      "metadata": {
        "id": "BJp7cHIF5LVT"
      },
      "execution_count": 4,
      "outputs": []
    },
    {
      "cell_type": "code",
      "source": [
        "spark"
      ],
      "metadata": {
        "colab": {
          "base_uri": "https://localhost:8080/",
          "height": 216
        },
        "id": "7ls3a6Aw5Om8",
        "outputId": "34d2e55c-aebd-4592-fe22-188cf66ed6fb"
      },
      "execution_count": 5,
      "outputs": [
        {
          "output_type": "execute_result",
          "data": {
            "text/plain": [
              "<pyspark.sql.session.SparkSession at 0x7fc763288c50>"
            ],
            "text/html": [
              "\n",
              "            <div>\n",
              "                <p><b>SparkSession - in-memory</b></p>\n",
              "                \n",
              "        <div>\n",
              "            <p><b>SparkContext</b></p>\n",
              "\n",
              "            <p><a href=\"http://0de64f8e30fa:4040\">Spark UI</a></p>\n",
              "\n",
              "            <dl>\n",
              "              <dt>Version</dt>\n",
              "                <dd><code>v3.2.1</code></dd>\n",
              "              <dt>Master</dt>\n",
              "                <dd><code>local[*]</code></dd>\n",
              "              <dt>AppName</dt>\n",
              "                <dd><code>pyspark-shell</code></dd>\n",
              "            </dl>\n",
              "        </div>\n",
              "        \n",
              "            </div>\n",
              "        "
            ]
          },
          "metadata": {},
          "execution_count": 5
        }
      ]
    },
    {
      "cell_type": "code",
      "source": [
        "sc"
      ],
      "metadata": {
        "colab": {
          "base_uri": "https://localhost:8080/",
          "height": 193
        },
        "id": "2uKldA_95QTO",
        "outputId": "73e99478-9a51-4e95-90ad-924c7b2432f9"
      },
      "execution_count": 6,
      "outputs": [
        {
          "output_type": "execute_result",
          "data": {
            "text/plain": [
              "<SparkContext master=local[*] appName=pyspark-shell>"
            ],
            "text/html": [
              "\n",
              "        <div>\n",
              "            <p><b>SparkContext</b></p>\n",
              "\n",
              "            <p><a href=\"http://0de64f8e30fa:4040\">Spark UI</a></p>\n",
              "\n",
              "            <dl>\n",
              "              <dt>Version</dt>\n",
              "                <dd><code>v3.2.1</code></dd>\n",
              "              <dt>Master</dt>\n",
              "                <dd><code>local[*]</code></dd>\n",
              "              <dt>AppName</dt>\n",
              "                <dd><code>pyspark-shell</code></dd>\n",
              "            </dl>\n",
              "        </div>\n",
              "        "
            ]
          },
          "metadata": {},
          "execution_count": 6
        }
      ]
    },
    {
      "cell_type": "code",
      "source": [
        "#Punto 1: Cargar datos\n",
        "df=spark.read.csv('/content/Casos_positivos_de_COVID-19_en_Colombia.csv',inferSchema=True,header=True)"
      ],
      "metadata": {
        "id": "gr4gtmcD5V4U"
      },
      "execution_count": 7,
      "outputs": []
    },
    {
      "cell_type": "code",
      "source": [
        "#Punto 2: Analisis\n",
        "#2.1 Columnas\n",
        "df.columns"
      ],
      "metadata": {
        "colab": {
          "base_uri": "https://localhost:8080/"
        },
        "id": "1bJLN8Se6FWp",
        "outputId": "a6d19775-ff5e-4bd3-a580-8f9c251ec357"
      },
      "execution_count": 8,
      "outputs": [
        {
          "output_type": "execute_result",
          "data": {
            "text/plain": [
              "['fecha reporte web',\n",
              " 'ID de caso',\n",
              " 'Fecha de notificación',\n",
              " 'Código DIVIPOLA departamento',\n",
              " 'Nombre departamento',\n",
              " 'Código DIVIPOLA municipio',\n",
              " 'Nombre municipio',\n",
              " 'Edad',\n",
              " 'Unidad de medida de edad',\n",
              " 'Sexo',\n",
              " 'Tipo de contagio',\n",
              " 'Ubicación del caso',\n",
              " 'Estado',\n",
              " 'Código ISO del país',\n",
              " 'Nombre del país',\n",
              " 'Recuperado',\n",
              " 'Fecha de inicio de síntomas',\n",
              " 'Fecha de muerte',\n",
              " 'Fecha de diagnóstico',\n",
              " 'Fecha de recuperación',\n",
              " 'Tipo de recuperación',\n",
              " 'Pertenencia étnica',\n",
              " 'Nombre del grupo étnico']"
            ]
          },
          "metadata": {},
          "execution_count": 8
        }
      ]
    },
    {
      "cell_type": "code",
      "source": [
        "#2.2 Tipo de datos\n",
        "import pandas as pd\n",
        "df.dtypes\n"
      ],
      "metadata": {
        "colab": {
          "base_uri": "https://localhost:8080/"
        },
        "id": "rORonVgc69Sc",
        "outputId": "903524a5-48bc-4213-ba5c-acf91fb3eb1a"
      },
      "execution_count": 9,
      "outputs": [
        {
          "output_type": "execute_result",
          "data": {
            "text/plain": [
              "[('fecha reporte web', 'string'),\n",
              " ('ID de caso', 'int'),\n",
              " ('Fecha de notificación', 'string'),\n",
              " ('Código DIVIPOLA departamento', 'int'),\n",
              " ('Nombre departamento', 'string'),\n",
              " ('Código DIVIPOLA municipio', 'int'),\n",
              " ('Nombre municipio', 'string'),\n",
              " ('Edad', 'int'),\n",
              " ('Unidad de medida de edad', 'int'),\n",
              " ('Sexo', 'string'),\n",
              " ('Tipo de contagio', 'string'),\n",
              " ('Ubicación del caso', 'string'),\n",
              " ('Estado', 'string'),\n",
              " ('Código ISO del país', 'int'),\n",
              " ('Nombre del país', 'string'),\n",
              " ('Recuperado', 'string'),\n",
              " ('Fecha de inicio de síntomas', 'string'),\n",
              " ('Fecha de muerte', 'string'),\n",
              " ('Fecha de diagnóstico', 'string'),\n",
              " ('Fecha de recuperación', 'string'),\n",
              " ('Tipo de recuperación', 'string'),\n",
              " ('Pertenencia étnica', 'int'),\n",
              " ('Nombre del grupo étnico', 'string')]"
            ]
          },
          "metadata": {},
          "execution_count": 9
        }
      ]
    },
    {
      "cell_type": "code",
      "source": [
        "#2.3 Seleccionar Columnas\n",
        "df_selection = df[['Edad', 'Recuperado']]\n",
        "df_selection"
      ],
      "metadata": {
        "colab": {
          "base_uri": "https://localhost:8080/"
        },
        "id": "rcc7xa7X73xn",
        "outputId": "100f48f4-e8cd-437b-f02a-3d1fa594c9ae"
      },
      "execution_count": 10,
      "outputs": [
        {
          "output_type": "execute_result",
          "data": {
            "text/plain": [
              "DataFrame[Edad: int, Recuperado: string]"
            ]
          },
          "metadata": {},
          "execution_count": 10
        }
      ]
    },
    {
      "cell_type": "code",
      "source": [
        "#2.4 Renombrar columnas\n",
        "df = df.withColumnRenamed(\"Sexo\", \"Genero\").withColumnRenamed(\"Nombre departamento\", \"Departamento\")"
      ],
      "metadata": {
        "id": "wPzrrCtI8tB8"
      },
      "execution_count": 11,
      "outputs": []
    },
    {
      "cell_type": "code",
      "source": [
        "#Actualizacion de columnas\n",
        "df.columns"
      ],
      "metadata": {
        "colab": {
          "base_uri": "https://localhost:8080/"
        },
        "id": "-xiVZWnX-1E1",
        "outputId": "b97e1164-32d2-4192-eb72-022903975f0d"
      },
      "execution_count": 12,
      "outputs": [
        {
          "output_type": "execute_result",
          "data": {
            "text/plain": [
              "['fecha reporte web',\n",
              " 'ID de caso',\n",
              " 'Fecha de notificación',\n",
              " 'Código DIVIPOLA departamento',\n",
              " 'Departamento',\n",
              " 'Código DIVIPOLA municipio',\n",
              " 'Nombre municipio',\n",
              " 'Edad',\n",
              " 'Unidad de medida de edad',\n",
              " 'Genero',\n",
              " 'Tipo de contagio',\n",
              " 'Ubicación del caso',\n",
              " 'Estado',\n",
              " 'Código ISO del país',\n",
              " 'Nombre del país',\n",
              " 'Recuperado',\n",
              " 'Fecha de inicio de síntomas',\n",
              " 'Fecha de muerte',\n",
              " 'Fecha de diagnóstico',\n",
              " 'Fecha de recuperación',\n",
              " 'Tipo de recuperación',\n",
              " 'Pertenencia étnica',\n",
              " 'Nombre del grupo étnico']"
            ]
          },
          "metadata": {},
          "execution_count": 12
        }
      ]
    },
    {
      "cell_type": "code",
      "source": [
        "#2.5 Agregar columna\n",
        "df.withColumn('NewCopy_Recuperado', df.Recuperado).withColumn('NewCopy_Departamento', df.Departamento).show()\n",
        "df.columns"
      ],
      "metadata": {
        "colab": {
          "base_uri": "https://localhost:8080/"
        },
        "id": "AmXNOtRG-7j5",
        "outputId": "3bcf308d-c9ca-4cb0-cd5f-e4a22acecd66"
      },
      "execution_count": 13,
      "outputs": [
        {
          "output_type": "stream",
          "name": "stdout",
          "text": [
            "+-------------------+----------+---------------------+----------------------------+---------------+-------------------------+-----------------+----+------------------------+------+----------------+------------------+------+-------------------+---------------+----------+---------------------------+---------------+--------------------+---------------------+--------------------+------------------+-----------------------+------------------+--------------------+\n",
            "|  fecha reporte web|ID de caso|Fecha de notificación|Código DIVIPOLA departamento|   Departamento|Código DIVIPOLA municipio| Nombre municipio|Edad|Unidad de medida de edad|Genero|Tipo de contagio|Ubicación del caso|Estado|Código ISO del país|Nombre del país|Recuperado|Fecha de inicio de síntomas|Fecha de muerte|Fecha de diagnóstico|Fecha de recuperación|Tipo de recuperación|Pertenencia étnica|Nombre del grupo étnico|NewCopy_Recuperado|NewCopy_Departamento|\n",
            "+-------------------+----------+---------------------+----------------------------+---------------+-------------------------+-----------------+----+------------------------+------+----------------+------------------+------+-------------------+---------------+----------+---------------------------+---------------+--------------------+---------------------+--------------------+------------------+-----------------------+------------------+--------------------+\n",
            "|2021-03-04 00:00:00|   2265685|  2021-03-02 00:00:00|                          11|         BOGOTA|                    11001|           BOGOTA|  49|                       1|     M|     Comunitaria|              Casa|  Leve|               null|           null|Recuperado|        2021-02-25 00:00:00|           null| 2021-03-03 00:00:00|  2021-03-16 00:00:00|              Tiempo|                 6|                   null|        Recuperado|              BOGOTA|\n",
            "|2021-03-04 00:00:00|   2265686|  2021-03-02 00:00:00|                          11|         BOGOTA|                    11001|           BOGOTA|  49|                       1|     M|     Relacionado|              Casa|  Leve|               null|           null|Recuperado|        2021-02-23 00:00:00|           null| 2021-03-03 00:00:00|  2021-03-16 00:00:00|              Tiempo|                 6|                   null|        Recuperado|              BOGOTA|\n",
            "|2021-03-04 00:00:00|   2265687|  2021-03-02 00:00:00|                          11|         BOGOTA|                    11001|           BOGOTA|  51|                       1|     F|     Comunitaria|              Casa|  Leve|               null|           null|Recuperado|        2021-02-24 00:00:00|           null| 2021-03-03 00:00:00|  2021-03-16 00:00:00|              Tiempo|                 6|                   null|        Recuperado|              BOGOTA|\n",
            "|2021-03-04 00:00:00|   2265688|  2021-03-02 00:00:00|                          11|         BOGOTA|                    11001|           BOGOTA|  51|                       1|     F|     Relacionado|              Casa|  Leve|               null|           null|Recuperado|        2021-02-27 00:00:00|           null| 2021-03-03 00:00:00|  2021-03-13 00:00:00|              Tiempo|                 6|                   null|        Recuperado|              BOGOTA|\n",
            "|2021-03-04 00:00:00|   2265689|  2021-03-02 00:00:00|                          11|         BOGOTA|                    11001|           BOGOTA|  51|                       1|     F|     Comunitaria|              Casa|  Leve|               null|           null|Recuperado|        2021-03-01 00:00:00|           null| 2021-03-03 00:00:00|  2021-03-16 00:00:00|              Tiempo|                 6|                   null|        Recuperado|              BOGOTA|\n",
            "|2021-03-04 00:00:00|   2265690|  2021-03-02 00:00:00|                          11|         BOGOTA|                    11001|           BOGOTA|  52|                       1|     F|     Relacionado|              Casa|  Leve|               null|           null|Recuperado|        2021-02-26 00:00:00|           null| 2021-03-03 00:00:00|  2021-03-16 00:00:00|              Tiempo|                 6|                   null|        Recuperado|              BOGOTA|\n",
            "|2021-01-15 00:00:00|   1851419|  2021-01-12 00:00:00|                          52|         NARIÑO|                    52227|           CUMBAL|  24|                       1|     M|     Relacionado|              Casa|  Leve|               null|           null|Recuperado|        2021-01-08 00:00:00|           null| 2021-01-14 00:00:00|  2021-01-26 00:00:00|              Tiempo|                 1|                  PASTO|        Recuperado|              NARIÑO|\n",
            "|2021-01-15 00:00:00|   1851420|  2021-01-11 00:00:00|                          52|         NARIÑO|                    52227|           CUMBAL|  24|                       1|     M|     Comunitaria|              Casa|  Leve|               null|           null|Recuperado|        2021-01-08 00:00:00|           null| 2021-01-13 00:00:00|  2021-01-26 00:00:00|              Tiempo|                 1|            Por definir|        Recuperado|              NARIÑO|\n",
            "|2021-01-15 00:00:00|   1851421|  2021-01-12 00:00:00|                          52|         NARIÑO|                    52317|        GUACHUCAL|  33|                       1|     M|     Relacionado|              Casa|  Leve|               null|           null|Recuperado|        2021-01-08 00:00:00|           null| 2021-01-13 00:00:00|  2021-01-26 00:00:00|              Tiempo|                 1|            Por definir|        Recuperado|              NARIÑO|\n",
            "|2021-01-15 00:00:00|   1851422|  2021-01-12 00:00:00|                          52|         NARIÑO|                    52378|          LA CRUZ|  35|                       1|     F|     Comunitaria|              Casa|  Leve|               null|           null|Recuperado|        2021-01-08 00:00:00|           null| 2021-01-12 00:00:00|  2021-01-26 00:00:00|              Tiempo|                 6|                   null|        Recuperado|              NARIÑO|\n",
            "|2021-01-15 00:00:00|   1851423|  2021-01-13 00:00:00|                          52|         NARIÑO|                    52378|          LA CRUZ|  36|                       1|     F|     Comunitaria|              Casa|  Leve|               null|           null|Recuperado|        2021-01-08 00:00:00|           null| 2021-01-13 00:00:00|  2021-01-26 00:00:00|              Tiempo|                 6|                   null|        Recuperado|              NARIÑO|\n",
            "|2021-01-15 00:00:00|   1851424|  2021-01-12 00:00:00|                          52|         NARIÑO|                    52378|          LA CRUZ|  33|                       1|     F|     Comunitaria|              Casa|  Leve|               null|           null|Recuperado|        2021-01-08 00:00:00|           null| 2021-01-12 00:00:00|  2021-01-26 00:00:00|              Tiempo|                 6|                   null|        Recuperado|              NARIÑO|\n",
            "|2021-01-15 00:00:00|   1851425|  2021-01-12 00:00:00|                          52|         NARIÑO|                    52378|          LA CRUZ|  30|                       1|     F|     Comunitaria|              Casa|  Leve|               null|           null|Recuperado|        2021-01-08 00:00:00|           null| 2021-01-12 00:00:00|  2021-01-26 00:00:00|              Tiempo|                 6|                   null|        Recuperado|              NARIÑO|\n",
            "|2021-01-15 00:00:00|   1851426|  2021-01-09 00:00:00|                          68|      SANTANDER|                    68081|  BARRANCABERMEJA|  38|                       1|     F|     Comunitaria|              Casa|  Leve|               null|           null|Recuperado|        2021-01-08 00:00:00|           null| 2021-01-12 00:00:00|  2021-01-22 00:00:00|                 PCR|                 6|                   null|        Recuperado|           SANTANDER|\n",
            "|2021-01-15 00:00:00|   1851427|  2021-01-12 00:00:00|                          68|      SANTANDER|                    68081|  BARRANCABERMEJA|  37|                       1|     F|     Comunitaria|              Casa|  Leve|               null|           null|Recuperado|        2021-01-01 00:00:00|           null| 2021-01-10 00:00:00|  2021-01-22 00:00:00|                 PCR|                 6|                   null|        Recuperado|           SANTANDER|\n",
            "|2021-01-15 00:00:00|   1851428|  2021-01-12 00:00:00|                          66|      RISARALDA|                    66170|     DOSQUEBRADAS|  23|                       1|     F|     Relacionado|              Casa|  Leve|               null|           null|Recuperado|        2021-01-08 00:00:00|           null| 2021-01-12 00:00:00|  2021-01-22 00:00:00|              Tiempo|                 6|                   null|        Recuperado|           RISARALDA|\n",
            "|2021-01-15 00:00:00|   1851429|  2021-01-08 00:00:00|                          15|         BOYACA|                    15810|        TIPACOQUE|  19|                       1|     F|     Comunitaria|              Casa|  Leve|               null|           null|Recuperado|        2021-01-08 00:00:00|           null| 2021-01-13 00:00:00|  2021-01-22 00:00:00|              Tiempo|                 6|                   null|        Recuperado|              BOYACA|\n",
            "|2021-01-15 00:00:00|   1851430|  2021-01-11 00:00:00|                          66|      RISARALDA|                    66001|          PEREIRA|  27|                       1|     M|     Comunitaria|              Casa|  Leve|               null|           null|Recuperado|        2021-01-08 00:00:00|           null| 2021-01-12 00:00:00|  2021-01-26 00:00:00|              Tiempo|                 6|                   null|        Recuperado|           RISARALDA|\n",
            "|2021-01-15 00:00:00|   1851431|  2021-01-13 00:00:00|                          54|NORTE SANTANDER|                    54001|           CUCUTA|  32|                       1|     F|     Comunitaria|              Casa|  Leve|               null|           null|Recuperado|        2021-01-08 00:00:00|           null| 2021-01-12 00:00:00|  2021-01-26 00:00:00|              Tiempo|                 6|                   null|        Recuperado|     NORTE SANTANDER|\n",
            "|2021-01-15 00:00:00|   1851432|  2021-01-13 00:00:00|                          54|NORTE SANTANDER|                    54874|VILLA DEL ROSARIO|  31|                       1|     F|     Relacionado|              Casa|  Leve|               null|           null|Recuperado|        2021-01-08 00:00:00|           null| 2021-01-13 00:00:00|  2021-01-26 00:00:00|              Tiempo|                 6|                   null|        Recuperado|     NORTE SANTANDER|\n",
            "+-------------------+----------+---------------------+----------------------------+---------------+-------------------------+-----------------+----+------------------------+------+----------------+------------------+------+-------------------+---------------+----------+---------------------------+---------------+--------------------+---------------------+--------------------+------------------+-----------------------+------------------+--------------------+\n",
            "only showing top 20 rows\n",
            "\n"
          ]
        },
        {
          "output_type": "execute_result",
          "data": {
            "text/plain": [
              "['fecha reporte web',\n",
              " 'ID de caso',\n",
              " 'Fecha de notificación',\n",
              " 'Código DIVIPOLA departamento',\n",
              " 'Departamento',\n",
              " 'Código DIVIPOLA municipio',\n",
              " 'Nombre municipio',\n",
              " 'Edad',\n",
              " 'Unidad de medida de edad',\n",
              " 'Genero',\n",
              " 'Tipo de contagio',\n",
              " 'Ubicación del caso',\n",
              " 'Estado',\n",
              " 'Código ISO del país',\n",
              " 'Nombre del país',\n",
              " 'Recuperado',\n",
              " 'Fecha de inicio de síntomas',\n",
              " 'Fecha de muerte',\n",
              " 'Fecha de diagnóstico',\n",
              " 'Fecha de recuperación',\n",
              " 'Tipo de recuperación',\n",
              " 'Pertenencia étnica',\n",
              " 'Nombre del grupo étnico']"
            ]
          },
          "metadata": {},
          "execution_count": 13
        }
      ]
    },
    {
      "cell_type": "code",
      "source": [
        "#2.6 Borrar columna\n",
        "df_borrado=df.drop('Genero')\n",
        "df_borrado.columns"
      ],
      "metadata": {
        "colab": {
          "base_uri": "https://localhost:8080/"
        },
        "id": "jR08hTinAlFW",
        "outputId": "02e7ab63-1bf6-4423-e72f-d959db900563"
      },
      "execution_count": 14,
      "outputs": [
        {
          "output_type": "execute_result",
          "data": {
            "text/plain": [
              "['fecha reporte web',\n",
              " 'ID de caso',\n",
              " 'Fecha de notificación',\n",
              " 'Código DIVIPOLA departamento',\n",
              " 'Departamento',\n",
              " 'Código DIVIPOLA municipio',\n",
              " 'Nombre municipio',\n",
              " 'Edad',\n",
              " 'Unidad de medida de edad',\n",
              " 'Tipo de contagio',\n",
              " 'Ubicación del caso',\n",
              " 'Estado',\n",
              " 'Código ISO del país',\n",
              " 'Nombre del país',\n",
              " 'Recuperado',\n",
              " 'Fecha de inicio de síntomas',\n",
              " 'Fecha de muerte',\n",
              " 'Fecha de diagnóstico',\n",
              " 'Fecha de recuperación',\n",
              " 'Tipo de recuperación',\n",
              " 'Pertenencia étnica',\n",
              " 'Nombre del grupo étnico']"
            ]
          },
          "metadata": {},
          "execution_count": 14
        }
      ]
    },
    {
      "cell_type": "code",
      "source": [
        "#2.7 Filtrados\n",
        "#2.7.1 Solo Genero Masculino\n",
        "df.filter(df['Genero']=='M').show()"
      ],
      "metadata": {
        "colab": {
          "base_uri": "https://localhost:8080/"
        },
        "id": "3vls7tujA5yV",
        "outputId": "22fcf1d2-61c5-4e8c-9492-56baf9acf8e6"
      },
      "execution_count": 15,
      "outputs": [
        {
          "output_type": "stream",
          "name": "stdout",
          "text": [
            "+-------------------+----------+---------------------+----------------------------+------------+-------------------------+----------------+----+------------------------+------+----------------+------------------+---------+-------------------+---------------+----------+---------------------------+-------------------+--------------------+---------------------+--------------------+------------------+-----------------------+\n",
            "|  fecha reporte web|ID de caso|Fecha de notificación|Código DIVIPOLA departamento|Departamento|Código DIVIPOLA municipio|Nombre municipio|Edad|Unidad de medida de edad|Genero|Tipo de contagio|Ubicación del caso|   Estado|Código ISO del país|Nombre del país|Recuperado|Fecha de inicio de síntomas|    Fecha de muerte|Fecha de diagnóstico|Fecha de recuperación|Tipo de recuperación|Pertenencia étnica|Nombre del grupo étnico|\n",
            "+-------------------+----------+---------------------+----------------------------+------------+-------------------------+----------------+----+------------------------+------+----------------+------------------+---------+-------------------+---------------+----------+---------------------------+-------------------+--------------------+---------------------+--------------------+------------------+-----------------------+\n",
            "|2021-03-04 00:00:00|   2265685|  2021-03-02 00:00:00|                          11|      BOGOTA|                    11001|          BOGOTA|  49|                       1|     M|     Comunitaria|              Casa|     Leve|               null|           null|Recuperado|        2021-02-25 00:00:00|               null| 2021-03-03 00:00:00|  2021-03-16 00:00:00|              Tiempo|                 6|                   null|\n",
            "|2021-03-04 00:00:00|   2265686|  2021-03-02 00:00:00|                          11|      BOGOTA|                    11001|          BOGOTA|  49|                       1|     M|     Relacionado|              Casa|     Leve|               null|           null|Recuperado|        2021-02-23 00:00:00|               null| 2021-03-03 00:00:00|  2021-03-16 00:00:00|              Tiempo|                 6|                   null|\n",
            "|2021-01-15 00:00:00|   1851419|  2021-01-12 00:00:00|                          52|      NARIÑO|                    52227|          CUMBAL|  24|                       1|     M|     Relacionado|              Casa|     Leve|               null|           null|Recuperado|        2021-01-08 00:00:00|               null| 2021-01-14 00:00:00|  2021-01-26 00:00:00|              Tiempo|                 1|                  PASTO|\n",
            "|2021-01-15 00:00:00|   1851420|  2021-01-11 00:00:00|                          52|      NARIÑO|                    52227|          CUMBAL|  24|                       1|     M|     Comunitaria|              Casa|     Leve|               null|           null|Recuperado|        2021-01-08 00:00:00|               null| 2021-01-13 00:00:00|  2021-01-26 00:00:00|              Tiempo|                 1|            Por definir|\n",
            "|2021-01-15 00:00:00|   1851421|  2021-01-12 00:00:00|                          52|      NARIÑO|                    52317|       GUACHUCAL|  33|                       1|     M|     Relacionado|              Casa|     Leve|               null|           null|Recuperado|        2021-01-08 00:00:00|               null| 2021-01-13 00:00:00|  2021-01-26 00:00:00|              Tiempo|                 1|            Por definir|\n",
            "|2021-01-15 00:00:00|   1851430|  2021-01-11 00:00:00|                          66|   RISARALDA|                    66001|         PEREIRA|  27|                       1|     M|     Comunitaria|              Casa|     Leve|               null|           null|Recuperado|        2021-01-08 00:00:00|               null| 2021-01-12 00:00:00|  2021-01-26 00:00:00|              Tiempo|                 6|                   null|\n",
            "|2021-01-12 00:00:00|   1805805|  2021-01-08 00:00:00|                           5|   ANTIOQUIA|                     5088|           BELLO|  40|                       1|     M|     Comunitaria|              Casa|     Leve|               null|           null|Recuperado|        2021-01-06 00:00:00|               null| 2021-01-08 00:00:00|  2021-01-20 00:00:00|              Tiempo|                 6|                   null|\n",
            "|2021-01-12 00:00:00|   1805806|  2021-01-08 00:00:00|                           5|   ANTIOQUIA|                     5360|          ITAGUI|  38|                       1|     M|     Relacionado|              Casa|     Leve|               null|           null|Recuperado|        2021-01-05 00:00:00|               null| 2021-01-09 00:00:00|  2021-01-19 00:00:00|              Tiempo|                 6|                   null|\n",
            "|2021-01-12 00:00:00|   1805807|  2021-01-09 00:00:00|                           5|   ANTIOQUIA|                     5308|       GIRARDOTA|  42|                       1|     M|     Relacionado|              Casa|     Leve|               null|           null|Recuperado|        2020-12-30 00:00:00|               null| 2021-01-08 00:00:00|  2021-01-14 00:00:00|              Tiempo|                 6|                   null|\n",
            "|2021-01-12 00:00:00|   1805809|  2021-01-08 00:00:00|                           5|   ANTIOQUIA|                     5001|        MEDELLIN|  27|                       1|     M|     Comunitaria|              Casa|     Leve|               null|           null|Recuperado|        2021-01-04 00:00:00|               null| 2021-01-08 00:00:00|  2021-04-26 00:00:00|                 PCR|                 6|                   null|\n",
            "|2021-01-12 00:00:00|   1805810|  2021-01-09 00:00:00|                           5|   ANTIOQUIA|                     5674|     SAN VICENTE|  29|                       1|     M|     Relacionado|              Casa|     Leve|               null|           null|Recuperado|        2021-01-06 00:00:00|               null| 2021-01-10 00:00:00|  2021-01-20 00:00:00|              Tiempo|                 6|                   null|\n",
            "|2021-01-12 00:00:00|   1805812|  2021-01-08 00:00:00|                           5|   ANTIOQUIA|                     5001|        MEDELLIN|  35|                       1|     M|     Comunitaria|              Casa|     Leve|               null|           null|Recuperado|        2021-01-05 00:00:00|               null| 2021-01-08 00:00:00|  2021-01-19 00:00:00|              Tiempo|                 6|                   null|\n",
            "|2021-01-12 00:00:00|   1805813|  2021-01-09 00:00:00|                           5|   ANTIOQUIA|                     5615|        RIONEGRO|  24|                       1|     M|     Comunitaria|              Casa|     Leve|               null|           null|Recuperado|        2021-01-06 00:00:00|               null| 2021-01-11 00:00:00|  2021-01-23 00:00:00|              Tiempo|                 6|                   null|\n",
            "|2021-01-12 00:00:00|   1805814|  2021-01-09 00:00:00|                           5|   ANTIOQUIA|                     5615|        RIONEGRO|  16|                       1|     M|     Relacionado|              Casa|     Leve|               null|           null|Recuperado|        2021-01-06 00:00:00|               null| 2021-01-10 00:00:00|  2021-01-20 00:00:00|              Tiempo|                 6|                   null|\n",
            "|2021-01-12 00:00:00|   1805816|  2021-01-09 00:00:00|                           5|   ANTIOQUIA|                     5129|          CALDAS|  28|                       1|     M|     Comunitaria|              Casa|     Leve|               null|           null|Recuperado|        2021-01-06 00:00:00|               null| 2021-01-10 00:00:00|  2021-01-20 00:00:00|              Tiempo|                 6|                   null|\n",
            "|2021-01-12 00:00:00|   1805827|  2021-01-08 00:00:00|                           5|   ANTIOQUIA|                     5001|        MEDELLIN|  21|                       1|     M|     Relacionado|              Casa|     Leve|               null|           null|Recuperado|        2021-01-04 00:00:00|               null| 2021-01-08 00:00:00|  2021-01-18 00:00:00|              Tiempo|                 6|                   null|\n",
            "|2020-09-08 00:00:00|    675918|  2020-08-27 00:00:00|                          18|     CAQUETA|                    18001|       FLORENCIA|  64|                       1|     M|     Comunitaria|         Fallecido|Fallecido|               null|           null| Fallecido|        2020-08-24 00:00:00|2020-09-06 00:00:00| 2020-09-07 00:00:00|                 null|                null|                 6|                   null|\n",
            "|2020-09-08 00:00:00|    675919|  2020-08-27 00:00:00|                          50|        META|                    50001|   VILLAVICENCIO|  57|                       1|     M|     Comunitaria|              Casa|     Leve|               null|           null|Recuperado|        2020-08-23 00:00:00|               null| 2020-09-07 00:00:00|  2020-09-13 00:00:00|              Tiempo|                 6|                   null|\n",
            "|2020-09-08 00:00:00|    675922|  2020-08-27 00:00:00|                        8001|BARRANQUILLA|                     8001|    BARRANQUILLA|  45|                       1|     M|     Comunitaria|              Casa|     Leve|               null|           null|Recuperado|        2020-08-24 00:00:00|               null| 2020-09-07 00:00:00|  2020-09-14 00:00:00|              Tiempo|                 6|                   null|\n",
            "|2020-09-08 00:00:00|    675923|  2020-08-22 00:00:00|                          52|      NARIÑO|                    52356|         IPIALES|  75|                       1|     M|     Comunitaria|              Casa|     Leve|               null|           null|Recuperado|        2020-08-19 00:00:00|               null| 2020-09-02 00:00:00|  2020-09-10 00:00:00|              Tiempo|                 6|                   null|\n",
            "+-------------------+----------+---------------------+----------------------------+------------+-------------------------+----------------+----+------------------------+------+----------------+------------------+---------+-------------------+---------------+----------+---------------------------+-------------------+--------------------+---------------------+--------------------+------------------+-----------------------+\n",
            "only showing top 20 rows\n",
            "\n"
          ]
        }
      ]
    },
    {
      "cell_type": "code",
      "source": [
        "#2.7.2 Masculinos Fallecidos\n",
        "df.filter((df['Genero']=='M')&(df['Estado']=='Fallecido')).show()"
      ],
      "metadata": {
        "colab": {
          "base_uri": "https://localhost:8080/"
        },
        "id": "v4gKNU18BYxW",
        "outputId": "9b627b80-9a2b-43b4-d034-e021ac2def44"
      },
      "execution_count": 16,
      "outputs": [
        {
          "output_type": "stream",
          "name": "stdout",
          "text": [
            "+-------------------+----------+---------------------+----------------------------+---------------+-------------------------+-----------------+----+------------------------+------+----------------+------------------+---------+-------------------+---------------+----------+---------------------------+-------------------+--------------------+---------------------+--------------------+------------------+-----------------------+\n",
            "|  fecha reporte web|ID de caso|Fecha de notificación|Código DIVIPOLA departamento|   Departamento|Código DIVIPOLA municipio| Nombre municipio|Edad|Unidad de medida de edad|Genero|Tipo de contagio|Ubicación del caso|   Estado|Código ISO del país|Nombre del país|Recuperado|Fecha de inicio de síntomas|    Fecha de muerte|Fecha de diagnóstico|Fecha de recuperación|Tipo de recuperación|Pertenencia étnica|Nombre del grupo étnico|\n",
            "+-------------------+----------+---------------------+----------------------------+---------------+-------------------------+-----------------+----+------------------------+------+----------------+------------------+---------+-------------------+---------------+----------+---------------------------+-------------------+--------------------+---------------------+--------------------+------------------+-----------------------+\n",
            "|2020-09-08 00:00:00|    675918|  2020-08-27 00:00:00|                          18|        CAQUETA|                    18001|        FLORENCIA|  64|                       1|     M|     Comunitaria|         Fallecido|Fallecido|               null|           null| Fallecido|        2020-08-24 00:00:00|2020-09-06 00:00:00| 2020-09-07 00:00:00|                 null|                null|                 6|                   null|\n",
            "|2020-09-08 00:00:00|    675925|  2020-08-27 00:00:00|                          76|          VALLE|                    76001|             CALI|  89|                       1|     M|     Comunitaria|         Fallecido|Fallecido|               null|           null| Fallecido|        2020-08-23 00:00:00|2020-09-04 00:00:00| 2020-09-07 00:00:00|                 null|                null|                 6|                   null|\n",
            "|2021-04-03 00:00:00|   2430743|  2021-02-18 00:00:00|                       47001| STA MARTA D.E.|                    47001|      SANTA MARTA|  73|                       1|     M|     Comunitaria|         Fallecido|Fallecido|               null|           null| Fallecido|        2021-02-14 00:00:00|2021-04-26 00:00:00| 2021-03-01 00:00:00|                 null|                null|                 6|                   null|\n",
            "|2021-04-03 00:00:00|   2430799|  2021-04-02 00:00:00|                          76|          VALLE|                    76520|          PALMIRA|  70|                       1|     M|     Comunitaria|         Fallecido|Fallecido|               null|           null| Fallecido|        2021-03-18 00:00:00|2021-04-14 00:00:00| 2021-04-02 00:00:00|                 null|                null|                 6|                   null|\n",
            "|2021-03-29 00:00:00|   2388972|  2021-03-22 00:00:00|                        8001|   BARRANQUILLA|                     8001|     BARRANQUILLA|  70|                       1|     M|     Relacionado|         Fallecido|Fallecido|               null|           null| Fallecido|        2021-03-18 00:00:00|2021-03-22 00:00:00| 2021-03-22 00:00:00|                 null|                null|                 6|                   null|\n",
            "|2021-03-29 00:00:00|   2389049|  2021-03-13 00:00:00|                        8001|   BARRANQUILLA|                     8001|     BARRANQUILLA|  55|                       1|     M|     Comunitaria|         Fallecido|Fallecido|               null|           null| Fallecido|        2021-03-09 00:00:00|2021-05-05 00:00:00| 2021-03-24 00:00:00|                 null|                null|                 6|                   null|\n",
            "|2021-02-16 00:00:00|   2199279|  2020-12-19 00:00:00|                          54|NORTE SANTANDER|                    54874|VILLA DEL ROSARIO|  70|                       1|     M|     Comunitaria|         Fallecido|Fallecido|               null|           null| Fallecido|        2020-12-01 00:00:00|2021-01-23 00:00:00| 2020-12-16 00:00:00|                 null|                null|                 6|                   null|\n",
            "|2021-03-26 00:00:00|   2360553|  2021-03-14 00:00:00|                           8|      ATLANTICO|                     8137| CAMPO DE LA CRUZ|  71|                       1|     M|     Comunitaria|         Fallecido|Fallecido|               null|           null| Fallecido|        2021-03-11 00:00:00|2021-04-03 00:00:00| 2021-03-25 00:00:00|                 null|                null|                 6|                   null|\n",
            "|2021-03-26 00:00:00|   2360618|  2021-03-08 00:00:00|                          20|          CESAR|                    20001|       VALLEDUPAR|  52|                       1|     M|     Relacionado|         Fallecido|Fallecido|               null|           null| Fallecido|        2021-03-05 00:00:00|2021-03-22 00:00:00| 2021-03-19 00:00:00|                 null|                null|                 6|                   null|\n",
            "|2021-01-28 00:00:00|   2056155|  2021-01-23 00:00:00|                           8|      ATLANTICO|                     8758|          SOLEDAD|  70|                       1|     M|     Relacionado|         Fallecido|Fallecido|               null|           null| Fallecido|        2021-01-16 00:00:00|2021-02-15 00:00:00| 2021-01-27 00:00:00|                 null|                null|                 6|                   null|\n",
            "|2021-01-28 00:00:00|   2056159|  2021-01-23 00:00:00|                          73|         TOLIMA|                    73268|          ESPINAL|  64|                       1|     M|     Comunitaria|         Fallecido|Fallecido|               null|           null| Fallecido|        2021-01-22 00:00:00|2021-01-23 00:00:00| 2021-01-27 00:00:00|                 null|                null|                 6|                   null|\n",
            "|2021-01-28 00:00:00|   2056171|  2021-01-23 00:00:00|                          73|         TOLIMA|                    73585|     PURIFICACION|  84|                       1|     M|     Comunitaria|         Fallecido|Fallecido|               null|           null| Fallecido|        2021-01-15 00:00:00|2021-01-30 00:00:00| 2021-01-26 00:00:00|                 null|                null|                 6|                   null|\n",
            "|2021-01-28 00:00:00|   2056173|  2021-01-23 00:00:00|                          73|         TOLIMA|                    73268|          ESPINAL|  75|                       1|     M|     Comunitaria|         Fallecido|Fallecido|               null|           null| Fallecido|        2021-01-21 00:00:00|2021-02-20 00:00:00| 2021-01-27 00:00:00|                 null|                null|                 6|                   null|\n",
            "|2021-02-01 00:00:00|   2096603|  2021-01-23 00:00:00|                          91|       AMAZONAS|                    91001|          LETICIA|  56|                       1|     M|     Comunitaria|         Fallecido|Fallecido|               null|           null| Fallecido|        2021-01-12 00:00:00|2021-02-18 00:00:00| 2021-01-30 00:00:00|                 null|                null|                 6|                   null|\n",
            "|2021-01-28 00:00:00|   2057202|  2021-01-16 00:00:00|                           8|      ATLANTICO|                     8758|          SOLEDAD|  80|                       1|     M|     Relacionado|         Fallecido|Fallecido|               null|           null| Fallecido|        2021-01-13 00:00:00|2021-02-01 00:00:00| 2021-01-27 00:00:00|                 null|                null|                 6|                   null|\n",
            "|2021-07-08 00:00:00|   4444814|  2021-06-22 00:00:00|                          15|         BOYACA|                    15407|   VILLA DE LEYVA|  41|                       1|     M|     Comunitaria|         Fallecido|Fallecido|               null|           null| Fallecido|        2021-06-19 00:00:00|2021-07-20 00:00:00| 2021-07-03 00:00:00|                 null|                null|                 6|                   null|\n",
            "|2021-07-08 00:00:00|   4444869|  2021-06-22 00:00:00|                          50|           META|                    50001|    VILLAVICENCIO|  62|                       1|     M|     Comunitaria|         Fallecido|Fallecido|               null|           null| Fallecido|        2021-06-15 00:00:00|2021-07-04 00:00:00| 2021-07-03 00:00:00|                 null|                null|                 6|                   null|\n",
            "|2020-10-19 00:00:00|    964555|  2020-10-05 00:00:00|                          76|          VALLE|                    76001|             CALI|  89|                       1|     M|     Comunitaria|         Fallecido|Fallecido|               null|           null| Fallecido|        2020-10-01 00:00:00|2020-10-27 00:00:00| 2020-10-16 00:00:00|                 null|                null|                 6|                   null|\n",
            "|2020-10-19 00:00:00|    964674|  2020-10-03 00:00:00|                           5|      ANTIOQUIA|                     5001|         MEDELLIN|  63|                       1|     M|     Comunitaria|         Fallecido|Fallecido|               null|           null| Fallecido|        2020-09-29 00:00:00|2020-11-01 00:00:00| 2020-10-14 00:00:00|                 null|                null|                 6|                   null|\n",
            "|2020-08-21 00:00:00|    516349|  2020-08-19 00:00:00|                          50|           META|                    50001|    VILLAVICENCIO|  56|                       1|     M|     Comunitaria|         Fallecido|Fallecido|               null|           null| Fallecido|        2020-08-11 00:00:00|2020-08-25 00:00:00| 2020-08-21 00:00:00|                 null|                null|                 6|                   null|\n",
            "+-------------------+----------+---------------------+----------------------------+---------------+-------------------------+-----------------+----+------------------------+------+----------------+------------------+---------+-------------------+---------------+----------+---------------------------+-------------------+--------------------+---------------------+--------------------+------------------+-----------------------+\n",
            "only showing top 20 rows\n",
            "\n"
          ]
        }
      ]
    },
    {
      "cell_type": "code",
      "source": [
        "#2.8 Lambds\n",
        "from pyspark.sql.functions import udf\n",
        "from pyspark.sql.types import StringType,DoubleType,IntegerType\n",
        "Region_udf = udf(lambda Departamento: \"Paisa\" if Departamento == 'ANTIOQUIA' else \"NO\", StringType())\n",
        "df.withColumn(\"Departamento\", Region_udf(df.Departamento)).show(10,False)"
      ],
      "metadata": {
        "colab": {
          "base_uri": "https://localhost:8080/"
        },
        "id": "YzcuckIsCNIn",
        "outputId": "1eafec89-390b-441e-9bd4-912e813da9b1"
      },
      "execution_count": 17,
      "outputs": [
        {
          "output_type": "stream",
          "name": "stdout",
          "text": [
            "+-------------------+----------+---------------------+----------------------------+------------+-------------------------+----------------+----+------------------------+------+----------------+------------------+------+-------------------+---------------+----------+---------------------------+---------------+--------------------+---------------------+--------------------+------------------+-----------------------+\n",
            "|fecha reporte web  |ID de caso|Fecha de notificación|Código DIVIPOLA departamento|Departamento|Código DIVIPOLA municipio|Nombre municipio|Edad|Unidad de medida de edad|Genero|Tipo de contagio|Ubicación del caso|Estado|Código ISO del país|Nombre del país|Recuperado|Fecha de inicio de síntomas|Fecha de muerte|Fecha de diagnóstico|Fecha de recuperación|Tipo de recuperación|Pertenencia étnica|Nombre del grupo étnico|\n",
            "+-------------------+----------+---------------------+----------------------------+------------+-------------------------+----------------+----+------------------------+------+----------------+------------------+------+-------------------+---------------+----------+---------------------------+---------------+--------------------+---------------------+--------------------+------------------+-----------------------+\n",
            "|2021-03-04 00:00:00|2265685   |2021-03-02 00:00:00  |11                          |NO          |11001                    |BOGOTA          |49  |1                       |M     |Comunitaria     |Casa              |Leve  |null               |null           |Recuperado|2021-02-25 00:00:00        |null           |2021-03-03 00:00:00 |2021-03-16 00:00:00  |Tiempo              |6                 |null                   |\n",
            "|2021-03-04 00:00:00|2265686   |2021-03-02 00:00:00  |11                          |NO          |11001                    |BOGOTA          |49  |1                       |M     |Relacionado     |Casa              |Leve  |null               |null           |Recuperado|2021-02-23 00:00:00        |null           |2021-03-03 00:00:00 |2021-03-16 00:00:00  |Tiempo              |6                 |null                   |\n",
            "|2021-03-04 00:00:00|2265687   |2021-03-02 00:00:00  |11                          |NO          |11001                    |BOGOTA          |51  |1                       |F     |Comunitaria     |Casa              |Leve  |null               |null           |Recuperado|2021-02-24 00:00:00        |null           |2021-03-03 00:00:00 |2021-03-16 00:00:00  |Tiempo              |6                 |null                   |\n",
            "|2021-03-04 00:00:00|2265688   |2021-03-02 00:00:00  |11                          |NO          |11001                    |BOGOTA          |51  |1                       |F     |Relacionado     |Casa              |Leve  |null               |null           |Recuperado|2021-02-27 00:00:00        |null           |2021-03-03 00:00:00 |2021-03-13 00:00:00  |Tiempo              |6                 |null                   |\n",
            "|2021-03-04 00:00:00|2265689   |2021-03-02 00:00:00  |11                          |NO          |11001                    |BOGOTA          |51  |1                       |F     |Comunitaria     |Casa              |Leve  |null               |null           |Recuperado|2021-03-01 00:00:00        |null           |2021-03-03 00:00:00 |2021-03-16 00:00:00  |Tiempo              |6                 |null                   |\n",
            "|2021-03-04 00:00:00|2265690   |2021-03-02 00:00:00  |11                          |NO          |11001                    |BOGOTA          |52  |1                       |F     |Relacionado     |Casa              |Leve  |null               |null           |Recuperado|2021-02-26 00:00:00        |null           |2021-03-03 00:00:00 |2021-03-16 00:00:00  |Tiempo              |6                 |null                   |\n",
            "|2021-01-15 00:00:00|1851419   |2021-01-12 00:00:00  |52                          |NO          |52227                    |CUMBAL          |24  |1                       |M     |Relacionado     |Casa              |Leve  |null               |null           |Recuperado|2021-01-08 00:00:00        |null           |2021-01-14 00:00:00 |2021-01-26 00:00:00  |Tiempo              |1                 |PASTO                  |\n",
            "|2021-01-15 00:00:00|1851420   |2021-01-11 00:00:00  |52                          |NO          |52227                    |CUMBAL          |24  |1                       |M     |Comunitaria     |Casa              |Leve  |null               |null           |Recuperado|2021-01-08 00:00:00        |null           |2021-01-13 00:00:00 |2021-01-26 00:00:00  |Tiempo              |1                 |Por definir            |\n",
            "|2021-01-15 00:00:00|1851421   |2021-01-12 00:00:00  |52                          |NO          |52317                    |GUACHUCAL       |33  |1                       |M     |Relacionado     |Casa              |Leve  |null               |null           |Recuperado|2021-01-08 00:00:00        |null           |2021-01-13 00:00:00 |2021-01-26 00:00:00  |Tiempo              |1                 |Por definir            |\n",
            "|2021-01-15 00:00:00|1851422   |2021-01-12 00:00:00  |52                          |NO          |52378                    |LA CRUZ         |35  |1                       |F     |Comunitaria     |Casa              |Leve  |null               |null           |Recuperado|2021-01-08 00:00:00        |null           |2021-01-12 00:00:00 |2021-01-26 00:00:00  |Tiempo              |6                 |null                   |\n",
            "+-------------------+----------+---------------------+----------------------------+------------+-------------------------+----------------+----+------------------------+------+----------------+------------------+------+-------------------+---------------+----------+---------------------------+---------------+--------------------+---------------------+--------------------+------------------+-----------------------+\n",
            "only showing top 10 rows\n",
            "\n"
          ]
        }
      ]
    },
    {
      "cell_type": "markdown",
      "source": [
        "## Punto 3 "
      ],
      "metadata": {
        "id": "EFd0fUnPIo0w"
      }
    },
    {
      "cell_type": "code",
      "source": [
        "#3.1 Top 10 departamentos con mas casos de covid de mayor a menor\n",
        "df.groupBy('Departamento').count().orderBy('count',ascending=False).show(10,False)"
      ],
      "metadata": {
        "colab": {
          "base_uri": "https://localhost:8080/"
        },
        "id": "3fx5fRdbI3G7",
        "outputId": "794969d1-2e16-4ae8-861b-d0da611afa37"
      },
      "execution_count": 21,
      "outputs": [
        {
          "output_type": "stream",
          "name": "stdout",
          "text": [
            "+------------+-----+\n",
            "|Departamento|count|\n",
            "+------------+-----+\n",
            "|BOGOTA      |82394|\n",
            "|ANTIOQUIA   |46281|\n",
            "|VALLE       |19172|\n",
            "|BARRANQUILLA|15566|\n",
            "|CUNDINAMARCA|12337|\n",
            "|SANTANDER   |9711 |\n",
            "|ATLANTICO   |8829 |\n",
            "|TOLIMA      |6759 |\n",
            "|CARTAGENA   |6575 |\n",
            "|RISARALDA   |6347 |\n",
            "+------------+-----+\n",
            "only showing top 10 rows\n",
            "\n"
          ]
        }
      ]
    },
    {
      "cell_type": "code",
      "source": [
        "#3.2  Top 10 ciudades con mas casos de covid de mayor a menor\n",
        "df.groupBy('Nombre municipio').count().orderBy('count',ascending=False).show(10,False)"
      ],
      "metadata": {
        "colab": {
          "base_uri": "https://localhost:8080/"
        },
        "id": "_W9JqKLFwk6P",
        "outputId": "e372ba2b-3a6b-4ac5-bc55-f6dd349ac18b"
      },
      "execution_count": 22,
      "outputs": [
        {
          "output_type": "stream",
          "name": "stdout",
          "text": [
            "+----------------+-----+\n",
            "|Nombre municipio|count|\n",
            "+----------------+-----+\n",
            "|BOGOTA          |82394|\n",
            "|MEDELLIN        |25942|\n",
            "|BARRANQUILLA    |15566|\n",
            "|CALI            |14158|\n",
            "|CARTAGENA       |6575 |\n",
            "|IBAGUE          |4772 |\n",
            "|SOLEDAD         |4206 |\n",
            "|MANIZALES       |4203 |\n",
            "|PEREIRA         |4151 |\n",
            "|BUCARAMANGA     |4115 |\n",
            "+----------------+-----+\n",
            "only showing top 10 rows\n",
            "\n"
          ]
        }
      ]
    },
    {
      "cell_type": "code",
      "source": [
        "#3.3  Top 10 fechas con mas casos de covid de mayor a menor\n",
        "df.groupBy('Fecha de notificación').count().orderBy('count',ascending=False).show(10,False)"
      ],
      "metadata": {
        "colab": {
          "base_uri": "https://localhost:8080/"
        },
        "id": "dsL4ftQjxghk",
        "outputId": "7fe36b05-b0b2-4a49-e25e-4443235ac046"
      },
      "execution_count": 40,
      "outputs": [
        {
          "output_type": "stream",
          "name": "stdout",
          "text": [
            "+---------------------+-----+\n",
            "|Fecha de notificación|count|\n",
            "+---------------------+-----+\n",
            "|2021-04-06 00:00:00  |6401 |\n",
            "|2021-04-07 00:00:00  |5375 |\n",
            "|2021-04-05 00:00:00  |3931 |\n",
            "|2021-04-08 00:00:00  |2720 |\n",
            "|2021-04-16 00:00:00  |2593 |\n",
            "|2020-12-28 00:00:00  |2507 |\n",
            "|2021-01-06 00:00:00  |2502 |\n",
            "|2020-07-22 00:00:00  |2288 |\n",
            "|2021-04-15 00:00:00  |2230 |\n",
            "|2021-01-08 00:00:00  |2172 |\n",
            "+---------------------+-----+\n",
            "only showing top 10 rows\n",
            "\n"
          ]
        }
      ]
    },
    {
      "cell_type": "code",
      "source": [
        "df.groupBy('Fecha de diagnóstico').count().orderBy('count',ascending=False).show(10,False)"
      ],
      "metadata": {
        "colab": {
          "base_uri": "https://localhost:8080/"
        },
        "id": "nwRB9R2ryQnt",
        "outputId": "21ab197b-4d02-451e-f9aa-574a3f0a548b"
      },
      "execution_count": 24,
      "outputs": [
        {
          "output_type": "stream",
          "name": "stdout",
          "text": [
            "+--------------------+-----+\n",
            "|Fecha de diagnóstico|count|\n",
            "+--------------------+-----+\n",
            "|2021-04-07 00:00:00 |8370 |\n",
            "|2021-04-08 00:00:00 |6498 |\n",
            "|2021-04-17 00:00:00 |4570 |\n",
            "|2021-04-06 00:00:00 |4393 |\n",
            "|2020-07-07 00:00:00 |2903 |\n",
            "|2020-07-29 00:00:00 |2820 |\n",
            "|2021-01-08 00:00:00 |2643 |\n",
            "|2020-06-21 00:00:00 |2575 |\n",
            "|2021-01-06 00:00:00 |2563 |\n",
            "|2021-04-24 00:00:00 |2543 |\n",
            "+--------------------+-----+\n",
            "only showing top 10 rows\n",
            "\n"
          ]
        }
      ]
    },
    {
      "cell_type": "code",
      "source": [
        "#3.4 Distribucion Edad\n",
        "Edad_histogram = df.select('Edad').rdd.flatMap(lambda x: x).histogram(11)\n",
        "\n",
        "pd.DataFrame(\n",
        "    list(zip(*Edad_histogram)), \n",
        "    columns=['bin', 'frequency']\n",
        ").set_index(\n",
        "    'bin'\n",
        ").plot(kind='bar');"
      ],
      "metadata": {
        "colab": {
          "base_uri": "https://localhost:8080/",
          "height": 621
        },
        "id": "BPZnynJoyahm",
        "outputId": "d1e2c336-4582-4093-ad3d-fbb56b43ad13"
      },
      "execution_count": 42,
      "outputs": [
        {
          "output_type": "display_data",
          "data": {
            "text/plain": [
              "<Figure size 700x500 with 1 Axes>"
            ],
            "image/png": "[encoded data removed]"
          },
          "metadata": {}
        }
      ]
    },
    {
      "cell_type": "code",
      "source": [
        "#3.6 Como insentivar metodologias de autocuidado en personas con un rango de edad entre 20 y 35 años para asi conseguir una reduccion del 30% de los casos?"
      ],
      "metadata": {
        "id": "9saDUoEE3L1t"
      },
      "execution_count": null,
      "outputs": []
    }
  ]
}